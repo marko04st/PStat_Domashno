{
 "cells": [
  {
   "cell_type": "code",
   "execution_count": 2,
   "id": "initial_id",
   "metadata": {
    "collapsed": true,
    "ExecuteTime": {
     "end_time": "2025-05-26T19:51:48.734897500Z",
     "start_time": "2025-05-26T19:51:47.535544500Z"
    }
   },
   "outputs": [],
   "source": [
    "import pandas as pd\n",
    "df = pd.read_csv(\"epl-allseasons-matchstats.csv\")"
   ]
  },
  {
   "cell_type": "code",
   "execution_count": 3,
   "outputs": [
    {
     "name": "stdout",
     "output_type": "stream",
     "text": [
      "T-Statistic: 24.04132913785648\n",
      "P-Value: 3.7398178024770016e-123\n"
     ]
    }
   ],
   "source": [
    "from scipy.stats import ttest_ind\n",
    "df_ttest = df[['HomeShots', 'AwayShots']].dropna()\n",
    "\n",
    "t_stat, p_val = ttest_ind(df_ttest['HomeShots'], df_ttest['AwayShots'])\n",
    "\n",
    "print(\"T-Statistic:\", t_stat)\n",
    "print(\"P-Value:\", p_val)"
   ],
   "metadata": {
    "collapsed": false,
    "ExecuteTime": {
     "end_time": "2025-05-26T19:51:50.896429100Z",
     "start_time": "2025-05-26T19:51:50.888289800Z"
    }
   },
   "id": "14f4b9caef0b7201"
  },
  {
   "cell_type": "code",
   "execution_count": 6,
   "outputs": [
    {
     "name": "stdout",
     "output_type": "stream",
     "text": [
      "P-Value: 3.919631814055635e-31\n",
      "Отхвърляме хипотезата\n"
     ]
    }
   ],
   "source": [
    "from scipy.stats import wilcoxon\n",
    "df_wilcoxontest = df[['HomeGoals', 'AwayGoals', \"HomeGoalsHalftime\", \"AwayGoalsHalftime\"]].dropna()\n",
    "df_wilcoxontest[\"FullTimeGoals\"] = df_wilcoxontest[\"HomeGoals\"] + df_wilcoxontest[\"AwayGoals\"]\n",
    "df_wilcoxontest[\"FirstHalfGoals\"] = df_wilcoxontest[\"HomeGoalsHalftime\"] + df_wilcoxontest[\"AwayGoalsHalftime\"]\n",
    "df_wilcoxontest[\"SecondHalfGoals\"] = df_wilcoxontest[\"FullTimeGoals\"] - df_wilcoxontest[\"FirstHalfGoals\"]\n",
    "\n",
    "wilcoxon_stat, p_wilcoxon = wilcoxon(df_wilcoxontest[\"FirstHalfGoals\"], df_wilcoxontest[\"SecondHalfGoals\"])\n",
    "\n",
    "print(\"P-Value:\", p_wilcoxon)\n",
    "if p_wilcoxon > 0.05:\n",
    "    print(\"Можем да допуснем че имат еднакво разпределение\")\n",
    "else:\n",
    "    print(\"Отхвърляме хипотезата\")"
   ],
   "metadata": {
    "collapsed": false,
    "ExecuteTime": {
     "end_time": "2025-05-26T20:25:14.088513600Z",
     "start_time": "2025-05-26T20:25:14.051433Z"
    }
   },
   "id": "854a78e1005028ef"
  },
  {
   "cell_type": "code",
   "execution_count": 21,
   "outputs": [
    {
     "ename": "ValueError",
     "evalue": "The truth value of a Series is ambiguous. Use a.empty, a.bool(), a.item(), a.any() or a.all().",
     "output_type": "error",
     "traceback": [
      "\u001B[31m---------------------------------------------------------------------------\u001B[39m",
      "\u001B[31mValueError\u001B[39m                                Traceback (most recent call last)",
      "\u001B[32m~\\AppData\\Local\\Temp\\ipykernel_11556\\2447608144.py\u001B[39m in \u001B[36m?\u001B[39m\u001B[34m()\u001B[39m\n\u001B[32m      1\u001B[39m \u001B[38;5;28;01mfrom\u001B[39;00m scipy.stats \u001B[38;5;28;01mimport\u001B[39;00m chi2_contingency\n\u001B[32m      2\u001B[39m \n\u001B[32m      3\u001B[39m london_teams = [\u001B[33m\"Arsenal\"\u001B[39m,\u001B[33m\"Chelsea\"\u001B[39m,\u001B[33m\"QPR\"\u001B[39m,\u001B[33m\"West Ham\"\u001B[39m,\u001B[33m\"Crystal Palace\"\u001B[39m]\n\u001B[32m      4\u001B[39m \n\u001B[32m----> \u001B[39m\u001B[32m5\u001B[39m spurs_matches = df[(df[\u001B[33m\"HomeTeam\"\u001B[39m] == \u001B[33m\"Tottenham\"\u001B[39m \u001B[38;5;28;01mor\u001B[39;00m df[\u001B[33m\"AwayTeam\"\u001B[39m] == \u001B[33m\"Tottenham\"\u001B[39m)]\n\u001B[32m      6\u001B[39m \n\u001B[32m      7\u001B[39m \u001B[38;5;28;01mdef\u001B[39;00m is_london_derby(row):\n\u001B[32m      8\u001B[39m     \u001B[38;5;28;01mif\u001B[39;00m row[\u001B[33m\"HomeTeam\"\u001B[39m] == \u001B[33m\"Tottenham\"\u001B[39m \u001B[38;5;28;01mand\u001B[39;00m row[\u001B[33m\"AwayTeam\"\u001B[39m] \u001B[38;5;28;01min\u001B[39;00m london_teams:\n",
      "\u001B[32m~\\AppData\\Local\\Programs\\Python\\Python312\\Lib\\site-packages\\pandas\\core\\generic.py\u001B[39m in \u001B[36m?\u001B[39m\u001B[34m(self)\u001B[39m\n\u001B[32m   1575\u001B[39m     @final\n\u001B[32m   1576\u001B[39m     \u001B[38;5;28;01mdef\u001B[39;00m __nonzero__(self) -> NoReturn:\n\u001B[32m-> \u001B[39m\u001B[32m1577\u001B[39m         raise ValueError(\n\u001B[32m   1578\u001B[39m             f\"The truth value of a {type(self).__name__} is ambiguous. \"\n\u001B[32m   1579\u001B[39m             \u001B[33m\"Use a.empty, a.bool(), a.item(), a.any() or a.all().\"\u001B[39m\n\u001B[32m   1580\u001B[39m         )\n",
      "\u001B[31mValueError\u001B[39m: The truth value of a Series is ambiguous. Use a.empty, a.bool(), a.item(), a.any() or a.all()."
     ]
    }
   ],
   "source": [
    "from scipy.stats import chi2_contingency\n",
    "\n",
    "london_teams = [\"Arsenal\",\"Chelsea\",\"QPR\",\"West Ham\",\"Crystal Palace\"]\n",
    "\n",
    "spurs_matches = df[(df[\"HomeTeam\"] == \"Tottenham\" or df[\"AwayTeam\"] == \"Tottenham\")]\n",
    "\n",
    "def is_london_derby(row):\n",
    "    if row[\"HomeTeam\"] == \"Tottenham\" and row[\"AwayTeam\"] in london_teams:\n",
    "        return \"Derby\"\n",
    "    elif row[\"AwayTeam\"] == \"Tottenham\" and row[\"HomeTeam\"] in london_teams:\n",
    "        return \"Derby\"\n",
    "    else:\n",
    "        return \"Non-Derby\"\n",
    "    \n",
    "spurs_matches[\"MatchType\"] == spurs_matches.apply(is_london_derby, axis = 1)\n",
    "print(spurs_matches.all())"
   ],
   "metadata": {
    "collapsed": false,
    "ExecuteTime": {
     "end_time": "2025-05-26T21:07:44.805372600Z",
     "start_time": "2025-05-26T21:07:44.788313600Z"
    }
   },
   "id": "a59a6b0e22ba48ee"
  },
  {
   "cell_type": "code",
   "execution_count": null,
   "outputs": [],
   "source": [],
   "metadata": {
    "collapsed": false
   },
   "id": "a98668ddce3f28c9"
  }
 ],
 "metadata": {
  "kernelspec": {
   "display_name": "Python 3",
   "language": "python",
   "name": "python3"
  },
  "language_info": {
   "codemirror_mode": {
    "name": "ipython",
    "version": 2
   },
   "file_extension": ".py",
   "mimetype": "text/x-python",
   "name": "python",
   "nbconvert_exporter": "python",
   "pygments_lexer": "ipython2",
   "version": "2.7.6"
  }
 },
 "nbformat": 4,
 "nbformat_minor": 5
}
